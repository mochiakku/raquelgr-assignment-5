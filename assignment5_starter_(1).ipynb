{
  "cells": [
    {
      "cell_type": "code",
      "execution_count": 2,
      "metadata": {
        "id": "FKeH9byF1v3K"
      },
      "outputs": [],
      "source": [
        "import numpy as np\n",
        "import pandas as pd"
      ]
    },
    {
      "cell_type": "code",
      "execution_count": 17,
      "metadata": {
        "id": "_pmPjrk51v3L"
      },
      "outputs": [],
      "source": [
        "# Define the KNN class\n",
        "class KNN:\n",
        "    def __init__(self, k=3, distance_metric='euclidean'):\n",
        "        self.k = k\n",
        "        self.distance_metric = distance_metric\n",
        "\n",
        "    def fit(self, X, y):\n",
        "        self.X_train = X.astype(float)\n",
        "        self.y_train = y.astype(int)\n",
        "\n",
        "    def predict(self, X):\n",
        "        X = X.astype(float)\n",
        "        predictions = []\n",
        "        for x in X:\n",
        "            distances = self.compute_distance(x, self.X_train)\n",
        "            k_indices = np.argsort(distances)[:self.k]\n",
        "            k_nearest_labels = self.y_train[k_indices]\n",
        "            prediction = np.bincount(k_nearest_labels).argmax()\n",
        "            predictions.append(prediction)\n",
        "        return np.array(predictions)\n",
        "\n",
        "    def compute_distance(self, X1, X2):\n",
        "        X1 = np.atleast_2d(X1).astype(float)\n",
        "        X2 = np.atleast_2d(X2).astype(float)\n",
        "\n",
        "        if self.distance_metric == 'euclidean':\n",
        "            distances = np.sqrt(np.sum((X2 - X1)**2, axis=1))\n",
        "        elif self.distance_metric == 'manhattan':\n",
        "            distances = np.sum(np.abs(X2 - X1), axis=1)\n",
        "        else:\n",
        "            raise ValueError(\"Unsupported distance metric\")\n",
        "\n",
        "        return distances.flatten()"
      ]
    },
    {
      "cell_type": "code",
      "execution_count": 13,
      "metadata": {
        "id": "RUHOHRhu1v3L"
      },
      "outputs": [],
      "source": [
        "# Define data preprocessing function\n",
        "def preprocess_data(train_path, test_path):\n",
        "    train_data = pd.read_csv(train_path)\n",
        "    test_data = pd.read_csv(test_path)\n",
        "\n",
        "    combined_data = pd.concat([train_data, test_data], axis=0)\n",
        "    combined_data = pd.get_dummies(combined_data, columns=['Geography', 'Gender'])\n",
        "\n",
        "    numerical_features = ['CreditScore', 'Age', 'Tenure', 'Balance', 'NumOfProducts', 'EstimatedSalary']\n",
        "    combined_data[numerical_features] = (combined_data[numerical_features] - combined_data[numerical_features].mean()) / combined_data[numerical_features].std()\n",
        "\n",
        "    X = combined_data.drop(['Exited', 'CustomerId', 'Surname', 'id'], axis=1)\n",
        "    y = combined_data['Exited']\n",
        "\n",
        "    X_train = X[:len(train_data)].astype(float)\n",
        "    y_train = y[:len(train_data)].astype(int)\n",
        "    X_test = X[len(train_data):].astype(float)\n",
        "\n",
        "    return X_train.values, y_train.values, X_test.values"
      ]
    },
    {
      "cell_type": "code",
      "execution_count": 5,
      "metadata": {
        "id": "pFghq8iU1v3M"
      },
      "outputs": [],
      "source": [
        "# Define cross-validation function\n",
        "def cross_validate(X, y, knn, n_splits=5):\n",
        "    fold_size = len(X) // n_splits\n",
        "    indices = np.arange(len(X))\n",
        "    np.random.shuffle(indices)\n",
        "\n",
        "    scores = []\n",
        "    for i in range(n_splits):\n",
        "        test_indices = indices[i*fold_size:(i+1)*fold_size]\n",
        "        train_indices = np.concatenate([indices[:i*fold_size], indices[(i+1)*fold_size:]])\n",
        "\n",
        "        X_train, X_test = X[train_indices], X[test_indices]\n",
        "        y_train, y_test = y[train_indices], y[test_indices]\n",
        "\n",
        "        knn.fit(X_train, y_train)\n",
        "        y_pred = knn.predict(X_test)\n",
        "\n",
        "        scores.append(compute_auc(y_test, y_pred))\n",
        "\n",
        "    return np.array(scores)"
      ]
    },
    {
      "cell_type": "code",
      "execution_count": 21,
      "metadata": {
        "colab": {
          "base_uri": "https://localhost:8080/"
        },
        "id": "C1TBFoAs1v3M",
        "outputId": "d1603b46-fb7d-4e43-f8e5-253705c4299d"
      },
      "outputs": [
        {
          "output_type": "stream",
          "name": "stdout",
          "text": [
            "Cross-validation scores: [0.50795405 0.4929044  0.49640002 0.49714863 0.5057462 ]\n",
            "Mean AUC: 0.500030657979862\n",
            "Best hyperparameters: k=3, distance_metric=euclidean\n",
            "Best mean AUC: 0.5074551794160483\n",
            "Successfuly saved to submissions.csv\n"
          ]
        }
      ],
      "source": [
        "# Define AUC computation function\n",
        "def compute_auc(y_true, y_pred):\n",
        "    n_pos = np.sum(y_true)\n",
        "    n_neg = len(y_true) - n_pos\n",
        "\n",
        "    pos_ranks = np.sum(np.argsort(y_pred)[y_true == 1])\n",
        "    auc = (pos_ranks - n_pos * (n_pos + 1) / 2) / (n_pos * n_neg)\n",
        "\n",
        "    return auc\n",
        "\n",
        "# Load and preprocess data\n",
        "X, y, X_test = preprocess_data('/content/train.csv', '/content/test.csv')\n",
        "\n",
        "# Create and evaluate model\n",
        "knn = KNN(k=5, distance_metric='euclidean')\n",
        "\n",
        "# Perform cross-validation\n",
        "cv_scores = cross_validate(X, y, knn)\n",
        "\n",
        "print(\"Cross-validation scores:\", cv_scores)\n",
        "print(\"Mean AUC:\", np.mean(cv_scores))\n",
        "\n",
        "k_values = [3, 5, 7, 9, 11, 13, 15, 17, 19]\n",
        "distance_metrics = ['euclidean', 'manhattan']\n",
        "\n",
        "best_k = 0\n",
        "best_metric = ''\n",
        "best_score = 0\n",
        "\n",
        "for k in k_values:\n",
        "    for metric in distance_metrics:\n",
        "        knn = KNN(k=k, distance_metric=metric)\n",
        "        scores = cross_validate(X, y, knn)\n",
        "        mean_score = np.mean(scores)\n",
        "\n",
        "        if mean_score > best_score:\n",
        "            best_score = mean_score\n",
        "            best_k = k\n",
        "            best_metric = metric\n",
        "\n",
        "print(f\"Best hyperparameters: k={best_k}, distance_metric={best_metric}\")\n",
        "print(f\"Best mean AUC: {best_score}\")\n",
        "\n",
        "# Train on full dataset with optimal hyperparameters and make predictions on test set\n",
        "knn = KNN(k=best_k, distance_metric=best_metric)\n",
        "knn.fit(X, y)\n",
        "test_predictions = knn.predict(X_test)\n",
        "\n",
        "# Save test predictions\n",
        "pd.DataFrame({'id': pd.read_csv('/content/test.csv')['id'], 'Exited': test_predictions}).to_csv('submissions.csv', index=False)\n",
        "print(\"Successfuly saved to submissions.csv\")"
      ]
    }
  ],
  "metadata": {
    "kernelspec": {
      "display_name": "cs506",
      "language": "python",
      "name": "python3"
    },
    "language_info": {
      "codemirror_mode": {
        "name": "ipython",
        "version": 3
      },
      "file_extension": ".py",
      "mimetype": "text/x-python",
      "name": "python",
      "nbconvert_exporter": "python",
      "pygments_lexer": "ipython3",
      "version": "3.10.15"
    },
    "colab": {
      "provenance": []
    }
  },
  "nbformat": 4,
  "nbformat_minor": 0
}